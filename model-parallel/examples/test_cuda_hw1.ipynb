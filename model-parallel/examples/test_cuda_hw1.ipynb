{
  "nbformat": 4,
  "nbformat_minor": 0,
  "metadata": {
    "colab": {
      "provenance": [],
      "authorship_tag": "ABX9TyOfkDDLeIEtcuaMN13+n/dE",
      "include_colab_link": true
    },
    "kernelspec": {
      "name": "python3",
      "display_name": "Python 3"
    },
    "language_info": {
      "name": "python"
    },
    "accelerator": "GPU",
    "gpuClass": "standard"
  },
  "cells": [
    {
      "cell_type": "markdown",
      "metadata": {
        "id": "view-in-github",
        "colab_type": "text"
      },
      "source": [
        "<a href=\"https://colab.research.google.com/github/vladargunov/mipt-distributed-learning/blob/master/deep-learning-framework/examples/test_cuda_hw1.ipynb\" target=\"_parent\"><img src=\"https://colab.research.google.com/assets/colab-badge.svg\" alt=\"Open In Colab\"/></a>"
      ]
    },
    {
      "cell_type": "markdown",
      "source": [
        "# This notebook shows an example of using my framework with CUDA\n",
        "\n",
        "P.S. Do not forget to turn on CUDA when initiating this notebook."
      ],
      "metadata": {
        "id": "WCe-qOSmyvL4"
      }
    },
    {
      "cell_type": "code",
      "execution_count": 1,
      "metadata": {
        "colab": {
          "base_uri": "https://localhost:8080/"
        },
        "id": "qygXA9JOyo0d",
        "outputId": "163ebe63-e7a3-4072-9631-d9b884813cc7"
      },
      "outputs": [
        {
          "output_type": "stream",
          "name": "stdout",
          "text": [
            "Cloning into 'mipt-distributed-learning'...\n",
            "remote: Enumerating objects: 40, done.\u001b[K\n",
            "remote: Counting objects: 100% (40/40), done.\u001b[K\n",
            "remote: Compressing objects: 100% (23/23), done.\u001b[K\n",
            "remote: Total 40 (delta 17), reused 36 (delta 13), pack-reused 0\u001b[K\n",
            "Unpacking objects: 100% (40/40), done.\n",
            "/content/mipt-distributed-learning\n",
            "/content/mipt-distributed-learning/deep-learning-framework\n"
          ]
        }
      ],
      "source": [
        "# Clone repo\n",
        "!git clone https://github.com/vladargunov/mipt-distributed-learning.git\n",
        "%cd mipt-distributed-learning\n",
        "%cd deep-learning-framework"
      ]
    },
    {
      "cell_type": "code",
      "source": [
        "import torch\n",
        "import numpy as np\n",
        "\n",
        "from processing import framework\n",
        "from processing.data_management import Dataset"
      ],
      "metadata": {
        "id": "yc3rYJa1y5Sy"
      },
      "execution_count": 3,
      "outputs": []
    },
    {
      "cell_type": "code",
      "source": [
        "# Check availability of cuda\n",
        "print(f'CUDA is availiable : {torch.cuda.is_available()}')"
      ],
      "metadata": {
        "colab": {
          "base_uri": "https://localhost:8080/"
        },
        "id": "mE3syfoNzoa5",
        "outputId": "bf2c86a9-0543-4752-a4da-5b402d972a38"
      },
      "execution_count": 4,
      "outputs": [
        {
          "output_type": "stream",
          "name": "stdout",
          "text": [
            "CUDA is availiable : True\n"
          ]
        }
      ]
    },
    {
      "cell_type": "code",
      "source": [
        "# Sample data\n",
        "sample_data = {\n",
        "        \"features\": np.random.rand(12, 2),\n",
        "        \"targets\": np.random.randint(2, size=12),\n",
        "    }\n",
        "\n",
        "sample_input_data = Dataset(data=sample_data)"
      ],
      "metadata": {
        "id": "NWacaZmuzHxI"
      },
      "execution_count": 5,
      "outputs": []
    },
    {
      "cell_type": "code",
      "source": [
        "# This code is similar to the 'test_training.py' script\n",
        "\n",
        "# Create a model and loss\n",
        "test_model = torch.nn.Sequential(torch.nn.Linear(2, 1), torch.nn.Sigmoid())\n",
        "test_loss = torch.nn.CrossEntropyLoss()\n",
        "\n",
        "# Initalise a framework\n",
        "test_framework = framework.DLFramework(model=test_model, loss=test_loss, lr=1)\n",
        "\n",
        "# Add data to the framework\n",
        "test_framework.prepare_data(dataset=sample_input_data)\n",
        "\n",
        "# Send model and data to gpu\n",
        "test_framework.send_to_gpu() \n",
        "\n",
        "# Train model\n",
        "test_framework.train(epochs=3, batch_size=4, validation_frequency=1)"
      ],
      "metadata": {
        "colab": {
          "base_uri": "https://localhost:8080/"
        },
        "id": "TlUpyxqwzJJ6",
        "outputId": "eae10ac9-c37f-4342-9773-0c4ed7cd3b06"
      },
      "execution_count": 6,
      "outputs": [
        {
          "output_type": "stream",
          "name": "stdout",
          "text": [
            "...Start Training Loop...\n",
            "Epoch : 1 | Train Loss : 5.51 | Validation Loss : 8.27\n",
            "Epoch : 2 | Train Loss : 5.49 | Validation Loss : 8.27\n",
            "Epoch : 3 | Train Loss : 5.47 | Validation Loss : 8.27\n",
            "...Training Loop Completed...\n"
          ]
        }
      ]
    },
    {
      "cell_type": "code",
      "source": [
        "# Predict with framework (note that prediction also lies on GPU)\n",
        "print('Prediction:\\n')\n",
        "test_framework.predict(sample_input_data)"
      ],
      "metadata": {
        "colab": {
          "base_uri": "https://localhost:8080/"
        },
        "id": "tlH4BTfMz-av",
        "outputId": "ed8493fb-c06b-4c38-f2be-a2220d5da244"
      },
      "execution_count": 8,
      "outputs": [
        {
          "output_type": "stream",
          "name": "stdout",
          "text": [
            "Prediction:\n",
            "\n"
          ]
        },
        {
          "output_type": "execute_result",
          "data": {
            "text/plain": [
              "tensor([0.5540, 0.5659, 0.4573, 0.6470, 0.5235, 0.4723, 0.5541, 0.4895, 0.4679,\n",
              "        0.4535, 0.4824, 0.5043], device='cuda:0')"
            ]
          },
          "metadata": {},
          "execution_count": 8
        }
      ]
    },
    {
      "cell_type": "code",
      "source": [],
      "metadata": {
        "id": "U2R5HZvv0sJ4"
      },
      "execution_count": null,
      "outputs": []
    }
  ]
}